{
 "cells": [
  {
   "cell_type": "code",
   "execution_count": 2,
   "id": "0f414f11-a0a7-4580-b366-6771f7c0479b",
   "metadata": {},
   "outputs": [],
   "source": [
    " from IPython.display import clear_output"
   ]
  },
  {
   "cell_type": "code",
   "execution_count": 3,
   "id": "eba77bb2-3700-4dc9-8254-ad23ada3e385",
   "metadata": {},
   "outputs": [],
   "source": [
    "def display_board(board):\n",
    "    print(board[1] + \"|\" + board[2] + \"|\" + board[3])\n",
    "    print(\"-----\")\n",
    "    print(board[4] + \"|\" + board[5] + \"|\" + board[6])\n",
    "    print(\"-----\")\n",
    "    print(board[7] + \"|\" + board[8] + \"|\" + board[9])"
   ]
  },
  {
   "cell_type": "code",
   "execution_count": 4,
   "id": "60d4c711-e44d-4a40-a82e-826526287362",
   "metadata": {},
   "outputs": [
    {
     "name": "stdout",
     "output_type": "stream",
     "text": [
      " | | \n",
      "-----\n",
      " | | \n",
      "-----\n",
      " | | \n"
     ]
    }
   ],
   "source": [
    "my_board=[' ',' ',' ',' ',' ',' ',' ',' ',' ',' ']\n",
    "display_board(my_board)"
   ]
  },
  {
   "cell_type": "code",
   "execution_count": 5,
   "id": "b45ea2ce-6ac4-4abb-8135-9704a9c7ae5f",
   "metadata": {},
   "outputs": [],
   "source": [
    "  def ask_input():\n",
    "       marker = \" \"\n",
    "       print(\"Welcome to tic tac toe\")\n",
    "       while marker not in [\"X\",\"O\"]: \n",
    "           marker = input(\"Player 1! Do you want to be X or O?\").upper()\n",
    "           \n",
    "       if marker  == \"X\":\n",
    "           return (\"X\",\"O\")\n",
    "       else:\n",
    "           return (\"O\",\"X\")\n",
    "\n",
    " "
   ]
  },
  {
   "cell_type": "code",
   "execution_count": 6,
   "id": "f80fd38e-9a6d-4e1a-94e1-bd9ac2588fb7",
   "metadata": {},
   "outputs": [
    {
     "name": "stdout",
     "output_type": "stream",
     "text": [
      "Welcome to tic tac toe\n"
     ]
    },
    {
     "name": "stdin",
     "output_type": "stream",
     "text": [
      "Player 1! Do you want to be X or O? X\n"
     ]
    },
    {
     "data": {
      "text/plain": [
       "('X', 'O')"
      ]
     },
     "execution_count": 6,
     "metadata": {},
     "output_type": "execute_result"
    }
   ],
   "source": [
    "ask_input()"
   ]
  },
  {
   "cell_type": "code",
   "execution_count": 7,
   "id": "9c133636-8212-4795-9b0f-669dee423586",
   "metadata": {},
   "outputs": [],
   "source": [
    "def user_input(board,marker,position):\n",
    "    board[position] = marker\n",
    "    return board\n"
   ]
  },
  {
   "cell_type": "code",
   "execution_count": 8,
   "id": "034b4be3-8d4d-4f40-8f1f-91a47e66a34a",
   "metadata": {},
   "outputs": [
    {
     "name": "stdout",
     "output_type": "stream",
     "text": [
      "X| | \n",
      "-----\n",
      " | | \n",
      "-----\n",
      " | | \n"
     ]
    }
   ],
   "source": [
    "user_input(my_board,'X',1)\n",
    "display_board(my_board)\n"
   ]
  },
  {
   "cell_type": "code",
   "execution_count": 9,
   "id": "a703da15-722f-46ed-b33c-c584f58ca996",
   "metadata": {},
   "outputs": [],
   "source": [
    "def win_check(board,marker):\n",
    "  return ((board[1] == marker and board[2] == marker and board[3] == marker) or \n",
    "  (board[4] == marker and board[5] == marker and board[6] == marker) or \n",
    "  (board[7] == marker and board[8] == marker and board[9] == marker) or \n",
    "  (board[1] == marker and board[4] == marker and board[7] == marker) or\n",
    "  (board[2] == marker and board[5] == marker and board[8] == marker) or\n",
    "  (board[3] == marker and board[6] == marker and board[9] == marker) or\n",
    "  (board[1] == marker and board[5] == marker and board[9] == marker) or\n",
    "  (board[3] == marker and board[5] == marker and board[7] == marker))\n",
    "        \n",
    "\n",
    "    \n",
    "\n",
    "\n",
    "    \n",
    "    "
   ]
  },
  {
   "cell_type": "code",
   "execution_count": 10,
   "id": "7b180a7e-4a2f-4449-9664-9bd3ff1da75f",
   "metadata": {},
   "outputs": [],
   "source": [
    "import random\n",
    "def choose_first():\n",
    "    flip = random.randint(0,1)\n",
    "    if flip == 0:\n",
    "        return \"Player 1\"\n",
    "    else:\n",
    "        return \"Player 2\""
   ]
  },
  {
   "cell_type": "code",
   "execution_count": 11,
   "id": "a300fa8d-6aa7-419a-b9fa-4d033b43e704",
   "metadata": {},
   "outputs": [],
   "source": [
    "def space_check(board,position):\n",
    "    return board[position] == \" \""
   ]
  },
  {
   "cell_type": "code",
   "execution_count": 12,
   "id": "dbc21346-23c3-4588-aeaf-09616e12cc9e",
   "metadata": {},
   "outputs": [],
   "source": [
    "def full_board(board):\n",
    "    for i in range(1,10):\n",
    "        if space_check(board,i):\n",
    "            return False\n",
    "    return True"
   ]
  },
  {
   "cell_type": "code",
   "execution_count": 13,
   "id": "b1735597-642c-4ec3-9c96-6670ee66a5ca",
   "metadata": {},
   "outputs": [],
   "source": [
    "def player_choice(board):\n",
    "  position = 0\n",
    "  while position not in range(1,10) or not space_check(board,position):\n",
    "    position = int(input(\"Choose a position: (1-9)\"))\n",
    "  return position"
   ]
  },
  {
   "cell_type": "code",
   "execution_count": 14,
   "id": "9de26834-879b-46bb-a415-850ec3983412",
   "metadata": {},
   "outputs": [],
   "source": [
    "def replay():\n",
    "    return input('Do you want to play again? Enter Yes or No: ').lower().startswith('y')"
   ]
  },
  {
   "cell_type": "code",
   "execution_count": null,
   "id": "ac77833b-d959-41d9-8ce3-97c17f4c10f7",
   "metadata": {
    "scrolled": true
   },
   "outputs": [
    {
     "name": "stdout",
     "output_type": "stream",
     "text": [
      "Welcome to tic tac toe\n"
     ]
    },
    {
     "name": "stdin",
     "output_type": "stream",
     "text": [
      "Player 1! Do you want to be X or O? x\n"
     ]
    },
    {
     "name": "stdout",
     "output_type": "stream",
     "text": [
      "Player 1 will go first.\n"
     ]
    },
    {
     "name": "stdin",
     "output_type": "stream",
     "text": [
      "Are you ready to play? Enter Yes or No. yes\n"
     ]
    },
    {
     "name": "stdout",
     "output_type": "stream",
     "text": [
      " | | \n",
      "-----\n",
      " | | \n",
      "-----\n",
      " | | \n"
     ]
    },
    {
     "name": "stdin",
     "output_type": "stream",
     "text": [
      "Choose a position: (1-9) 5\n"
     ]
    },
    {
     "name": "stdout",
     "output_type": "stream",
     "text": [
      " | | \n",
      "-----\n",
      " |X| \n",
      "-----\n",
      " | | \n"
     ]
    },
    {
     "name": "stdin",
     "output_type": "stream",
     "text": [
      "Choose a position: (1-9) 1\n"
     ]
    },
    {
     "name": "stdout",
     "output_type": "stream",
     "text": [
      "O| | \n",
      "-----\n",
      " |X| \n",
      "-----\n",
      " | | \n"
     ]
    },
    {
     "name": "stdin",
     "output_type": "stream",
     "text": [
      "Choose a position: (1-9) 3\n"
     ]
    },
    {
     "name": "stdout",
     "output_type": "stream",
     "text": [
      "O| |X\n",
      "-----\n",
      " |X| \n",
      "-----\n",
      " | | \n"
     ]
    },
    {
     "name": "stdin",
     "output_type": "stream",
     "text": [
      "Choose a position: (1-9) 7\n"
     ]
    },
    {
     "name": "stdout",
     "output_type": "stream",
     "text": [
      "O| |X\n",
      "-----\n",
      " |X| \n",
      "-----\n",
      "O| | \n"
     ]
    },
    {
     "name": "stdin",
     "output_type": "stream",
     "text": [
      "Choose a position: (1-9) 4\n"
     ]
    },
    {
     "name": "stdout",
     "output_type": "stream",
     "text": [
      "O| |X\n",
      "-----\n",
      "X|X| \n",
      "-----\n",
      "O| | \n"
     ]
    },
    {
     "name": "stdin",
     "output_type": "stream",
     "text": [
      "Choose a position: (1-9) 6\n"
     ]
    },
    {
     "name": "stdout",
     "output_type": "stream",
     "text": [
      "O| |X\n",
      "-----\n",
      "X|X|O\n",
      "-----\n",
      "O| | \n"
     ]
    }
   ],
   "source": [
    " while True:\n",
    "    # Reset the board\n",
    "    my_board=[' ',' ',' ',' ',' ',' ',' ',' ',' ',' ']\n",
    "    player1_marker, player2_marker = ask_input()\n",
    "    turn = choose_first()\n",
    "    print(turn + ' will go first.')\n",
    "    \n",
    "    play_game = input('Are you ready to play? Enter Yes or No.')\n",
    "    \n",
    "    if play_game.lower()[0] == 'y':\n",
    "        game_on = True\n",
    "    else:\n",
    "        game_on = False\n",
    "\n",
    "    while game_on:\n",
    "        if turn == 'Player 1':\n",
    "            # Player1's turn.\n",
    "            \n",
    "            display_board(my_board)\n",
    "            position = player_choice(my_board)\n",
    "            user_input(my_board, player1_marker, position)\n",
    "\n",
    "            if win_check(my_board, player1_marker):\n",
    "                display_board(my_board)\n",
    "                print('Congratulations! Player 1 has won the game!')\n",
    "                game_on = False\n",
    "            else:\n",
    "                if full_board(my_board):\n",
    "                    display_board(my_board)\n",
    "                    print('The game is a draw!')\n",
    "                    break\n",
    "                else:\n",
    "                    turn = 'Player 2'\n",
    "        \n",
    "        else:\n",
    "            # Player2's turn.\n",
    "            \n",
    "            display_board(my_board)\n",
    "            position = player_choice(my_board)\n",
    "            user_input(my_board, player2_marker, position)\n",
    "\n",
    "            if win_check(my_board, player2_marker):\n",
    "                display_board(my_board)\n",
    "                print('Player 2 has won!')\n",
    "                game_on = False\n",
    "            else:\n",
    "                if full_board(my_board):\n",
    "                    display_board(my_board)\n",
    "                    print('The game is a draw!')\n",
    "                    break\n",
    "                else:\n",
    "                    turn = 'Player 1'\n",
    "\n",
    "    if not replay():\n",
    "        break\n",
    "    else:\n",
    "        continue"
   ]
  },
  {
   "cell_type": "code",
   "execution_count": null,
   "id": "5b85ffc7-815a-404c-9786-1fa6f001fdb9",
   "metadata": {},
   "outputs": [],
   "source": []
  }
 ],
 "metadata": {
  "kernelspec": {
   "display_name": "Python 3 (ipykernel)",
   "language": "python",
   "name": "python3"
  },
  "language_info": {
   "codemirror_mode": {
    "name": "ipython",
    "version": 3
   },
   "file_extension": ".py",
   "mimetype": "text/x-python",
   "name": "python",
   "nbconvert_exporter": "python",
   "pygments_lexer": "ipython3",
   "version": "3.12.2"
  }
 },
 "nbformat": 4,
 "nbformat_minor": 5
}
